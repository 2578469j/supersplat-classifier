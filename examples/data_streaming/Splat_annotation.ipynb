{
 "cells": [
  {
   "cell_type": "code",
   "execution_count": null,
   "metadata": {},
   "outputs": [],
   "source": [
    "# Install dependecies\n",
    "%pip install pillow numpy opencv-python scikit-learn websockets flask"
   ]
  },
  {
   "cell_type": "code",
   "execution_count": 2,
   "metadata": {},
   "outputs": [],
   "source": [
    "import os\n",
    "import sys\n",
    "import numpy as np\n",
    "\n",
    "# Import external library dependencies\n",
    "module_paths = [\n",
    "    os.path.abspath(os.path.join('./dependencies/gaussian-splatting')),\n",
    "]\n",
    "for module_path in module_paths:\n",
    "    if module_path not in sys.path:\n",
    "        sys.path.append(module_path)"
   ]
  },
  {
   "cell_type": "markdown",
   "metadata": {},
   "source": [
    "### Running websocket proxy server:\n",
    "```\n",
    "conda activate SuperSplatDemo\n",
    "cd .\\examples\\data_streaming\n",
    "python .\\dataserver.py\n",
    "```\n",
    "\n",
    "### Join websocket in SuperSplat web:\n",
    "`Click Scene -> Start Data Server`"
   ]
  },
  {
   "cell_type": "code",
   "execution_count": 4,
   "metadata": {},
   "outputs": [],
   "source": [
    "from annotatedmodel import AnnotatedModel, DatasetParams\n",
    "\n",
    "# backCover\n",
    "demo_dataset_params = DatasetParams(\".\\\\demo\\\\fruit_drops_minimal.ply\",\n",
    "                                         \".\\\\demo\\\\fruit_drops_minimal_out.ply\",\n",
    "                                         \".\\\\demo\\\\fruit_drops_minimal.json\",\n",
    "                                         \".\\\\demo\\\\fruit_drops_minimal_out.json\"\n",
    "                                         )\n",
    "\n",
    "demo = AnnotatedModel(demo_dataset_params.sh_degree)\n",
    "demo.load_ply(demo_dataset_params.ply_source)\n",
    "\n",
    "# Load existing labels with format: https://docs.segments.ai/reference/label-types#segmentation-label \n",
    "demo.load_labels(demo_dataset_params.label_source)\n",
    "\n",
    "# Initialize new labels\n",
    "#demo.initialize_empty_labels()"
   ]
  },
  {
   "cell_type": "code",
   "execution_count": 5,
   "metadata": {},
   "outputs": [],
   "source": [
    "# Reupload model\n",
    "def reupload_model(model:AnnotatedModel):\n",
    "    model.upload_ply()\n",
    "    model.upload_labels()\n",
    "\n",
    "reupload_model(demo)"
   ]
  },
  {
   "cell_type": "code",
   "execution_count": 7,
   "metadata": {},
   "outputs": [
    {
     "name": "stdout",
     "output_type": "stream",
     "text": [
      "[3 0 0 ... 2 2 1]\n"
     ]
    }
   ],
   "source": [
    "# K-Means\n",
    "from sklearn.cluster import KMeans\n",
    "\n",
    "def kmeans(model:AnnotatedModel, k=5):\n",
    "    X = model._xyz.cpu().detach()\n",
    "    clustering = KMeans(n_clusters=k).fit(X)\n",
    "    labels = clustering.labels_\n",
    "    print(labels)\n",
    "    model.load_np_labels(labels)\n",
    "    model.labelData.generate_n_categories(k-1)\n",
    "    model.upload_labels()\n",
    "\n",
    "kmeans(demo, 5)"
   ]
  },
  {
   "cell_type": "code",
   "execution_count": 8,
   "metadata": {},
   "outputs": [
    {
     "name": "stdout",
     "output_type": "stream",
     "text": [
      "Found K: 9\n",
      "[0 0 0 ... 0 0 0]\n"
     ]
    }
   ],
   "source": [
    "# DBSCAN\n",
    "from sklearn.cluster import DBSCAN\n",
    "\n",
    "def dbscan(model:AnnotatedModel, eps=0.02, min_samples=5):\n",
    "    X = model._xyz.cpu().detach()\n",
    "    clustering = DBSCAN(eps=eps, min_samples=min_samples).fit(X)\n",
    "    labels = clustering.labels_\n",
    "    # DBSCAN uses -1 for non-clustered points\n",
    "    labels = labels + 1\n",
    "    k = len(np.unique(labels))\n",
    "    print(f\"Found K: {k}\")\n",
    "    print(labels)\n",
    "    model.load_np_labels(labels)\n",
    "    model.labelData.generate_n_categories(k)\n",
    "    model.upload_labels()\n",
    "\n",
    "dbscan(demo, 0.015, 5)"
   ]
  },
  {
   "cell_type": "code",
   "execution_count": 11,
   "metadata": {},
   "outputs": [],
   "source": [
    "# Export labels in new annotations file\n",
    "demo.save_labels(demo_dataset_params.label_dest)"
   ]
  }
 ],
 "metadata": {
  "kernelspec": {
   "display_name": "SuperSplatDemo",
   "language": "python",
   "name": "python3"
  },
  "language_info": {
   "codemirror_mode": {
    "name": "ipython",
    "version": 3
   },
   "file_extension": ".py",
   "mimetype": "text/x-python",
   "name": "python",
   "nbconvert_exporter": "python",
   "pygments_lexer": "ipython3",
   "version": "3.7.12"
  }
 },
 "nbformat": 4,
 "nbformat_minor": 2
}
